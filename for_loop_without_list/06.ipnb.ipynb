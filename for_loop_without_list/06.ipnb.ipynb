{
 "cells": [
  {
   "cell_type": "code",
   "execution_count": null,
   "metadata": {},
   "outputs": [],
   "source": [
    "# 06.Given a positive integer, find out the sum of all even numbers from 2 up to this number"
   ]
  },
  {
   "cell_type": "code",
   "execution_count": 1,
   "metadata": {},
   "outputs": [
    {
     "name": "stdout",
     "output_type": "stream",
     "text": [
      "Sum is:  30\n"
     ]
    }
   ],
   "source": [
    "num=int(input(\"Enter a number: \"))# We give input\n",
    "sum=0 #It initializes a variable sum to 0\n",
    "for i in range(1,num+1): # We given a range to input\n",
    "  if i%2==0: #we check it is even or not\n",
    "    sum=sum+i # calculate total and store\n",
    "print(\"Sum is: \",sum)"
   ]
  }
 ],
 "metadata": {
  "kernelspec": {
   "display_name": "Python 3",
   "language": "python",
   "name": "python3"
  },
  "language_info": {
   "codemirror_mode": {
    "name": "ipython",
    "version": 3
   },
   "file_extension": ".py",
   "mimetype": "text/x-python",
   "name": "python",
   "nbconvert_exporter": "python",
   "pygments_lexer": "ipython3",
   "version": "3.11.5"
  }
 },
 "nbformat": 4,
 "nbformat_minor": 2
}
