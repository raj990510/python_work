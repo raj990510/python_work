{
 "cells": [
  {
   "cell_type": "code",
   "execution_count": null,
   "metadata": {},
   "outputs": [],
   "source": [
    "# 4.Given a positive integer, find out if it’s prime or no"
   ]
  },
  {
   "cell_type": "code",
   "execution_count": null,
   "metadata": {},
   "outputs": [],
   "source": [
    "num=int(input(\"Enter a numbers: \"))#We give a input\n",
    "f = 0 #It initializes a variable f to 0.\n",
    "if num==0 or num==1: # we check we input 0 or 1\n",
    "  f=1 #It initializes a variable f to 1.\n",
    "for i in range(2,num):\n",
    "  if num%i==0:\n",
    "      f=1 #It initializes a variable f to 1.\n",
    "if f==1: # we check prime\n",
    "  print(\"Number is not prime\")\n",
    "else:\n",
    "  print(\"Number is prime\")"
   ]
  }
 ],
 "metadata": {
  "language_info": {
   "name": "python"
  }
 },
 "nbformat": 4,
 "nbformat_minor": 2
}
