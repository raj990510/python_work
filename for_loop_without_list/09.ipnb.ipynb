{
 "cells": [
  {
   "cell_type": "code",
   "execution_count": null,
   "metadata": {},
   "outputs": [],
   "source": [
    "# 09. Given a positive integer, print each of its digits separately without converting the number into a string\n"
   ]
  },
  {
   "cell_type": "code",
   "execution_count": 1,
   "metadata": {},
   "outputs": [
    {
     "name": "stdout",
     "output_type": "stream",
     "text": [
      "5 0 2 "
     ]
    }
   ],
   "source": [
    "num = int(input(\"Enter a positive integer: \"))# Get a positive integer from the user\n",
    "\n",
    "if num < 0: # Check if the number is non-negative\n",
    "    print(\"Please enter a positive integer.\")\n",
    "else:\n",
    "    # Initialize a variable to store the current digit\n",
    "    current_num = num\n",
    "\n",
    "    # Loop to extract and print each digit\n",
    "    while current_num > 0:\n",
    "        # Get the last digit by taking the remainder when divided by 10\n",
    "        digit = current_num % 10\n",
    "        print(digit, end=\" \")  # Print the digit\n",
    "        # Remove the last digit by integer division\n",
    "        current_num //= 10\n",
    "\n",
    "# Output will be the digits of the input number separated by spaces\n"
   ]
  }
 ],
 "metadata": {
  "kernelspec": {
   "display_name": "Python 3",
   "language": "python",
   "name": "python3"
  },
  "language_info": {
   "codemirror_mode": {
    "name": "ipython",
    "version": 3
   },
   "file_extension": ".py",
   "mimetype": "text/x-python",
   "name": "python",
   "nbconvert_exporter": "python",
   "pygments_lexer": "ipython3",
   "version": "3.11.5"
  }
 },
 "nbformat": 4,
 "nbformat_minor": 2
}
