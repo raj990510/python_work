{
 "cells": [
  {
   "cell_type": "code",
   "execution_count": null,
   "metadata": {},
   "outputs": [],
   "source": [
    "# 7.Given a positive integer, find the multiplication table of that integer up to 10"
   ]
  },
  {
   "cell_type": "code",
   "execution_count": 1,
   "metadata": {},
   "outputs": [
    {
     "name": "stdout",
     "output_type": "stream",
     "text": [
      "Multiplication is  10 * 1 = 10\n",
      "Multiplication is  10 * 2 = 20\n",
      "Multiplication is  10 * 3 = 30\n",
      "Multiplication is  10 * 4 = 40\n",
      "Multiplication is  10 * 5 = 50\n",
      "Multiplication is  10 * 6 = 60\n",
      "Multiplication is  10 * 7 = 70\n",
      "Multiplication is  10 * 8 = 80\n",
      "Multiplication is  10 * 9 = 90\n",
      "Multiplication is  10 * 10 = 100\n"
     ]
    }
   ],
   "source": [
    "num=int(input(\"Enter a number: \"))# we give a input\n",
    "for i in range(1,11): # given range\n",
    "  print(\"Multiplication is \",num,\"*\",i,\"=\",i*num)#output"
   ]
  }
 ],
 "metadata": {
  "kernelspec": {
   "display_name": "Python 3",
   "language": "python",
   "name": "python3"
  },
  "language_info": {
   "codemirror_mode": {
    "name": "ipython",
    "version": 3
   },
   "file_extension": ".py",
   "mimetype": "text/x-python",
   "name": "python",
   "nbconvert_exporter": "python",
   "pygments_lexer": "ipython3",
   "version": "3.11.5"
  }
 },
 "nbformat": 4,
 "nbformat_minor": 2
}
