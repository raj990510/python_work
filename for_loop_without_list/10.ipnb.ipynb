{
 "cells": [
  {
   "cell_type": "code",
   "execution_count": null,
   "metadata": {},
   "outputs": [],
   "source": [
    "# 10.Given a positive integer, convert it into binary, and vice-versa."
   ]
  },
  {
   "cell_type": "code",
   "execution_count": 1,
   "metadata": {},
   "outputs": [
    {
     "name": "stdout",
     "output_type": "stream",
     "text": [
      "Decimal 25 in binary: 11001\n"
     ]
    }
   ],
   "source": [
    "decimal_num = 25\n",
    "binary_str = \"\"\n",
    "\n",
    "for i in range(5):  # 5 is the maximum number of binary digits for decimal 25\n",
    "    remainder = decimal_num % 2\n",
    "    binary_str = str(remainder) + binary_str\n",
    "    decimal_num //= 2\n",
    "\n",
    "print(\"Decimal 25 in binary:\", binary_str)"
   ]
  },
  {
   "cell_type": "code",
   "execution_count": 2,
   "metadata": {},
   "outputs": [
    {
     "name": "stdout",
     "output_type": "stream",
     "text": [
      "Binary 11001 in decimal:  {25}\n"
     ]
    }
   ],
   "source": [
    "binary_str = \"11001\"\n",
    "decimal_num = 0\n",
    "\n",
    "for i in range(len(binary_str)):\n",
    "    digit = int(binary_str[-(i + 1)])\n",
    "    decimal_num += digit * 2**i\n",
    "\n",
    "print(\"Binary 11001 in decimal: \",{decimal_num})"
   ]
  }
 ],
 "metadata": {
  "kernelspec": {
   "display_name": "Python 3",
   "language": "python",
   "name": "python3"
  },
  "language_info": {
   "codemirror_mode": {
    "name": "ipython",
    "version": 3
   },
   "file_extension": ".py",
   "mimetype": "text/x-python",
   "name": "python",
   "nbconvert_exporter": "python",
   "pygments_lexer": "ipython3",
   "version": "3.11.5"
  }
 },
 "nbformat": 4,
 "nbformat_minor": 2
}
