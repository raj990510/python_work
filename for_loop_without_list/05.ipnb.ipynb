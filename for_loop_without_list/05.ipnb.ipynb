{
 "cells": [
  {
   "cell_type": "code",
   "execution_count": null,
   "metadata": {},
   "outputs": [],
   "source": [
    "# 5.Given a positive integer, find out the sum of all odd numbers from 1 up to this number"
   ]
  },
  {
   "cell_type": "code",
   "execution_count": null,
   "metadata": {},
   "outputs": [],
   "source": [
    "num=int(input(\"Enter a number: \"))# we give a input\n",
    "sum=0 #It initializes a variable sum to 0.\n",
    "for i in range(1,num+1):\n",
    "  if i%2 !=0:# we check odd or not\n",
    "    sum=sum+i #store total sum\n",
    "print(\"Sum is: \",sum)"
   ]
  }
 ],
 "metadata": {
  "language_info": {
   "name": "python"
  }
 },
 "nbformat": 4,
 "nbformat_minor": 2
}
