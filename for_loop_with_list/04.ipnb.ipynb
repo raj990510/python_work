{
 "cells": [
  {
   "cell_type": "code",
   "execution_count": null,
   "metadata": {},
   "outputs": [],
   "source": [
    "#4.Given a list of numbers, find out the mean and standard deviation"
   ]
  },
  {
   "cell_type": "code",
   "execution_count": 1,
   "metadata": {},
   "outputs": [
    {
     "name": "stdout",
     "output_type": "stream",
     "text": [
      "Mean: 3.0\n",
      "Standard Deviation: 1.4142135623730951\n"
     ]
    }
   ],
   "source": [
    "# Function to calculate the mean and standard deviation\n",
    "def mean_and_std_dev(numbers):\n",
    "    n = len(numbers)\n",
    "\n",
    "    # Calculate the mean\n",
    "    total = 0\n",
    "    for num in numbers:\n",
    "        total += num\n",
    "    mean = total / n\n",
    "\n",
    "    # Calculate the standard deviation\n",
    "    sum_of_squares = 0\n",
    "    for num in numbers:\n",
    "        sum_of_squares += (num - mean) ** 2\n",
    "    std_dev = (sum_of_squares / n) ** 0.5\n",
    "\n",
    "    return mean, std_dev\n",
    "\n",
    "# Example list of numbers\n",
    "numbers = [1, 2, 3, 4, 5]\n",
    "\n",
    "# Calculate the mean and standard deviation\n",
    "mean, std_dev = mean_and_std_dev(numbers)\n",
    "\n",
    "print(\"Mean:\", mean)\n",
    "print(\"Standard Deviation:\", std_dev)"
   ]
  }
 ],
 "metadata": {
  "kernelspec": {
   "display_name": "Python 3",
   "language": "python",
   "name": "python3"
  },
  "language_info": {
   "codemirror_mode": {
    "name": "ipython",
    "version": 3
   },
   "file_extension": ".py",
   "mimetype": "text/x-python",
   "name": "python",
   "nbconvert_exporter": "python",
   "pygments_lexer": "ipython3",
   "version": "3.11.5"
  }
 },
 "nbformat": 4,
 "nbformat_minor": 2
}
