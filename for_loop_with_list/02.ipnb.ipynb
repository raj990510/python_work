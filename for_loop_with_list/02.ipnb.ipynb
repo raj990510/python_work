{
 "cells": [
  {
   "cell_type": "code",
   "execution_count": null,
   "metadata": {},
   "outputs": [],
   "source": [
    "# 2.Given a list of numbers, find the squares of all the numbers"
   ]
  },
  {
   "cell_type": "code",
   "execution_count": 1,
   "metadata": {},
   "outputs": [
    {
     "name": "stdout",
     "output_type": "stream",
     "text": [
      "Squares of the numbers: [4, 16, 25, 4, 36, 49]\n"
     ]
    }
   ],
   "source": [
    "listm = [2, 4, 5, 2, 6, 7] #Given a list\n",
    "squares = []#squares is initialized to []\n",
    "\n",
    "for i in listm:\n",
    "    square = i*i  # Calculate the square of the current element\n",
    "    squares.append(square)  # Append the square to the squares list\n",
    "\n",
    "print(\"Squares of the numbers:\", squares)"
   ]
  }
 ],
 "metadata": {
  "kernelspec": {
   "display_name": "Python 3",
   "language": "python",
   "name": "python3"
  },
  "language_info": {
   "codemirror_mode": {
    "name": "ipython",
    "version": 3
   },
   "file_extension": ".py",
   "mimetype": "text/x-python",
   "name": "python",
   "nbconvert_exporter": "python",
   "pygments_lexer": "ipython3",
   "version": "3.11.5"
  }
 },
 "nbformat": 4,
 "nbformat_minor": 2
}
