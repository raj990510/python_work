{
 "cells": [
  {
   "cell_type": "code",
   "execution_count": null,
   "metadata": {},
   "outputs": [],
   "source": [
    "# 3.Check if a key exists in a dictionary: sample_dict = {‘a’: 100, ‘b’: 200, ‘c’: 300} key_needed = ‘d’ Check if a value exists in a dictionary: sample_dict = {‘a’: 100, ‘b’: 200, ‘c’: 300} value_needed = 200"
   ]
  },
  {
   "cell_type": "code",
   "execution_count": null,
   "metadata": {},
   "outputs": [],
   "source": [
    "sample_dict = {'a': 100, 'b': 200, 'c': 300}\n",
    "value_needed = 200\n",
    "if value_needed in sample_dict.values():\n",
    "  print(\"yes Present\")\n",
    "else:\n",
    "  print(\"not Present\")"
   ]
  }
 ],
 "metadata": {
  "language_info": {
   "name": "python"
  }
 },
 "nbformat": 4,
 "nbformat_minor": 2
}
