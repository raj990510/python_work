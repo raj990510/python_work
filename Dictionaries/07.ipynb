{
 "cells": [
  {
   "cell_type": "code",
   "execution_count": null,
   "metadata": {},
   "outputs": [],
   "source": [
    "# 7.Write a for loop to create another dictionary from the above where the marks are replaced by grades.\n",
    "#  Above 80 is A grade, 60–80 is B grade, 40–60 is C grade, and below 40 is F. Create another dictionary to store the max and average marks for each student.\n",
    "#  Use this dictionary to compute the final CPI/CGPA of the student. Course1 is of 4 credits, Course2 of 10 credits, and Course3 of 6 credits.\n",
    "#  Store these credits in a list. Write this dictionary as a json file, and read it back into a new dictionary."
   ]
  }
 ],
 "metadata": {
  "language_info": {
   "name": "python"
  }
 },
 "nbformat": 4,
 "nbformat_minor": 2
}
