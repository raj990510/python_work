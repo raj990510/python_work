{
 "cells": [
  {
   "cell_type": "code",
   "execution_count": null,
   "metadata": {},
   "outputs": [],
   "source": [
    "#6.Create a dictionary to store the total marks of 5 students in the class in 3 subjects (Course1, Course2, Course3). The keys must be the student names, and the values must be the list of marks. Create another list which has the course names in the same order as the marks are stored in the dictionary values. Now write a nested for loop to print the marks for each student exam wise. Student1 Course1 marks : 82 Course2 marks : 84 Course3 marks : 72 Student2 Course1 marks : 87 Course2 marks : 83 Course3 marks : 78"
   ]
  },
  {
   "cell_type": "code",
   "execution_count": null,
   "metadata": {},
   "outputs": [],
   "source": [
    "# Create a dictionary to store student marks\n",
    "marks_dict = {\n",
    "    \"Student1\": [82, 84, 72],\n",
    "    \"Student2\": [87, 83, 78],\n",
    "    \"Student3\": [90, 85, 92],\n",
    "    \"Student4\": [76, 89, 81],\n",
    "    \"Student5\": [95, 88, 90]\n",
    "}\n",
    "\n",
    "# Create a list of course names\n",
    "course_names = [\"Course1\", \"Course2\", \"Course3\"]\n",
    "\n",
    "# Print marks for each student exam-wise\n",
    "for student, marks in marks_dict.items():\n",
    "    print(student)\n",
    "    for i in range(len(course_names)):\n",
    "        print(course_names[i], \"marks:\", marks[i])"
   ]
  }
 ],
 "metadata": {
  "language_info": {
   "name": "python"
  }
 },
 "nbformat": 4,
 "nbformat_minor": 2
}
