{
 "cells": [
  {
   "cell_type": "code",
   "execution_count": null,
   "metadata": {},
   "outputs": [],
   "source": [
    "# 02.Given two integers, find the larger one"
   ]
  },
  {
   "cell_type": "code",
   "execution_count": 1,
   "metadata": {},
   "outputs": [
    {
     "name": "stdout",
     "output_type": "stream",
     "text": [
      "1st Number is larger\n"
     ]
    }
   ],
   "source": [
    "Num1=int(input(\"Enter a  number: \")) # Given a first input\n",
    "Num2=int(input(\"Enter a  number: \")) # Given a second input\n",
    "if Num1> Num2: # we check which is larger\n",
    "  print(\"1st Number is larger\")\n",
    "else:\n",
    "  print(\"2nd Number is larger\")"
   ]
  }
 ],
 "metadata": {
  "kernelspec": {
   "display_name": "Python 3",
   "language": "python",
   "name": "python3"
  },
  "language_info": {
   "codemirror_mode": {
    "name": "ipython",
    "version": 3
   },
   "file_extension": ".py",
   "mimetype": "text/x-python",
   "name": "python",
   "nbconvert_exporter": "python",
   "pygments_lexer": "ipython3",
   "version": "3.11.5"
  }
 },
 "nbformat": 4,
 "nbformat_minor": 2
}
