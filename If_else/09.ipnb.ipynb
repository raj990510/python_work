{
 "cells": [
  {
   "cell_type": "code",
   "execution_count": null,
   "metadata": {},
   "outputs": [],
   "source": [
    "# 09.Given three points, find out whether they lie on the same straight line or not"
   ]
  },
  {
   "cell_type": "code",
   "execution_count": 2,
   "metadata": {},
   "outputs": [
    {
     "name": "stdout",
     "output_type": "stream",
     "text": [
      "Points are on the same straight line.\n"
     ]
    }
   ],
   "source": [
    "x1 = float(input(\"Enter x-coordinate of point 1: \"))\n",
    "y1 = float(input(\"Enter y-coordinate of point 1: \"))\n",
    "x2 = float(input(\"Enter x-coordinate of point 2: \"))\n",
    "y2 = float(input(\"Enter y-coordinate of point 2: \"))\n",
    "x3 = float(input(\"Enter x-coordinate of point 3: \"))\n",
    "y3 = float(input(\"Enter y-coordinate of point 3: \"))\n",
    "\n",
    "# Calculate the slopes\n",
    "slope1 = (y2 - y1) / (x2 - x1) if x2 - x1 != 0 else float('inf')  # Use 'inf' for vertical line\n",
    "slope2 = (y3 - y1) / (x3 - x1) if x3 - x1 != 0 else float('inf')  # Use 'inf' for vertical line\n",
    "\n",
    "if slope1 == float('inf') and slope2 == float('inf'):\n",
    "    # Points are all in a vertical line\n",
    "    print(\"Points are on the same straight line.\")\n",
    "elif slope1 == float('inf') or slope2 == float('inf'):\n",
    "    # One of the slopes is undefined (vertical line)\n",
    "    print(\"Points are not on the same straight line.\")\n",
    "elif slope1 == slope2:\n",
    "    # Slopes are equal, points are on the same straight line\n",
    "    print(\"Points are on the same straight line.\")\n",
    "else:\n",
    "    # Slopes are not equal, points are not on the same straight line\n",
    "    print(\"Points are not on the same straight line.\")"
   ]
  }
 ],
 "metadata": {
  "kernelspec": {
   "display_name": "Python 3",
   "language": "python",
   "name": "python3"
  },
  "language_info": {
   "codemirror_mode": {
    "name": "ipython",
    "version": 3
   },
   "file_extension": ".py",
   "mimetype": "text/x-python",
   "name": "python",
   "nbconvert_exporter": "python",
   "pygments_lexer": "ipython3",
   "version": "3.11.5"
  }
 },
 "nbformat": 4,
 "nbformat_minor": 2
}
