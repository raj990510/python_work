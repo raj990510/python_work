{
 "cells": [
  {
   "cell_type": "code",
   "execution_count": null,
   "metadata": {},
   "outputs": [],
   "source": [
    "# 08.Given a quadratic equation with coefficients a, b and c, find the two solutions (may be real or complex). You should not take the square root of a negative number in your code."
   ]
  },
  {
   "cell_type": "code",
   "execution_count": 1,
   "metadata": {},
   "outputs": [
    {
     "name": "stdout",
     "output_type": "stream",
     "text": [
      "Two real solutions:\n",
      "Root 1: -0.12599212598818924\n",
      "Root 2: -15.874007874011813\n"
     ]
    }
   ],
   "source": [
    "a = float(input(\"Enter coefficient a: \"))#We give a 1st input\n",
    "b = float(input(\"Enter coefficient b: \"))#We give a 2nd input\n",
    "c = float(input(\"Enter coefficient c: \"))#We give a 3rd input\n",
    "\n",
    "# Calculate the discriminant\n",
    "discriminant= b**2 - 4 * a * c\n",
    "\n",
    "if discriminant > 0:\n",
    "    # Two real solutions\n",
    "    root1 = (-b + discriminant**0.5) / (2 * a)\n",
    "    root2 = (-b - discriminant**0.5) / (2 * a)\n",
    "    print(\"Two real solutions:\")\n",
    "    print(\"Root 1:\", root1)\n",
    "    print(\"Root 2:\", root2)\n",
    "elif discriminant == 0:\n",
    "    # One real solution (double root)\n",
    "    root1 = -b / (2 * a)\n",
    "    print(\"One real solution (double root):\")\n",
    "    print(\"Root 1:\", root1)\n",
    "else:\n",
    "    # Complex solutions\n",
    "    real_part = -b / (2 * a)\n",
    "    imaginary_part = (-discriminant)**0.5 / (2 * a)\n",
    "    print(\"Complex solutions:\")\n",
    "    print(\"Root 1:\", real_part, \"+\", imaginary_part, \"i\")\n",
    "    print(\"Root 2:\", real_part, \"-\", imaginary_part, \"i\")\n"
   ]
  }
 ],
 "metadata": {
  "kernelspec": {
   "display_name": "Python 3",
   "language": "python",
   "name": "python3"
  },
  "language_info": {
   "codemirror_mode": {
    "name": "ipython",
    "version": 3
   },
   "file_extension": ".py",
   "mimetype": "text/x-python",
   "name": "python",
   "nbconvert_exporter": "python",
   "pygments_lexer": "ipython3",
   "version": "3.11.5"
  }
 },
 "nbformat": 4,
 "nbformat_minor": 2
}
