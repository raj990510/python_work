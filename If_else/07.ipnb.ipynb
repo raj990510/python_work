{
 "cells": [
  {
   "cell_type": "code",
   "execution_count": null,
   "metadata": {},
   "outputs": [],
   "source": [
    "# 07.Given two points (x1, y1) and (x2, y2), find the slope and intercept of the line joining these two points (the line may be perfectly horizontal or vertical)"
   ]
  },
  {
   "cell_type": "code",
   "execution_count": 1,
   "metadata": {},
   "outputs": [
    {
     "name": "stdout",
     "output_type": "stream",
     "text": [
      "The slope (m) is: 2.8  and the y-intercept (b) is -18.0\n"
     ]
    }
   ],
   "source": [
    "x1=float(input(\"Enter a point: \"))# we give a 1st point\n",
    "x2=float(input(\"Enter a point: \"))#we give a 2nd point\n",
    "y1=float(input(\"Enter a point: \"))#we give a 3rd point\n",
    "y2=float(input(\"Enter a point: \"))#we give a 4th point\n",
    "if x1==x2: # The line is vertical (undefined slope)\n",
    "  print(\"line is vartical\")\n",
    "else: # Calculate the slope (m) and intercept (b)\n",
    "  m = (y2 - y1) / (x2 - x1)\n",
    "  b = y1 - m * x1\n",
    "print(\"The slope (m) is:\" , m,\" and the y-intercept (b) is\" ,b)"
   ]
  }
 ],
 "metadata": {
  "kernelspec": {
   "display_name": "Python 3",
   "language": "python",
   "name": "python3"
  },
  "language_info": {
   "codemirror_mode": {
    "name": "ipython",
    "version": 3
   },
   "file_extension": ".py",
   "mimetype": "text/x-python",
   "name": "python",
   "nbconvert_exporter": "python",
   "pygments_lexer": "ipython3",
   "version": "3.11.5"
  }
 },
 "nbformat": 4,
 "nbformat_minor": 2
}
