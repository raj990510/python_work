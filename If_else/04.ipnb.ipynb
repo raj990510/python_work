{
 "cells": [
  {
   "cell_type": "code",
   "execution_count": null,
   "metadata": {},
   "outputs": [],
   "source": [
    "04.Given a year, check if it is a leap year or not. A leap year is divisible by 4, \n",
    "except for years that are divisible by 100. However, years that are divisible by 400 are also leap years"
   ]
  },
  {
   "cell_type": "code",
   "execution_count": null,
   "metadata": {},
   "outputs": [],
   "source": [
    "Year =int(input(\"Enter a year\")) # give a year name\n",
    "if Year % 4 == 0: # check year is leap or not\n",
    "  print(\"A leap year\")\n",
    "elif Year % 100 == 0:# check year is century or not\n",
    "  print(\"it is a century\")\n",
    "else:\n",
    "  print(\"it is a not leap year\")"
   ]
  }
 ],
 "metadata": {
  "language_info": {
   "name": "python"
  }
 },
 "nbformat": 4,
 "nbformat_minor": 2
}
