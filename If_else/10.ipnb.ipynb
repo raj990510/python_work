{
 "cells": [
  {
   "cell_type": "code",
   "execution_count": null,
   "metadata": {},
   "outputs": [],
   "source": [
    "# 10.Given three points, find out whether they lie on the same straight line or not"
   ]
  },
  {
   "cell_type": "code",
   "execution_count": 2,
   "metadata": {},
   "outputs": [
    {
     "name": "stdout",
     "output_type": "stream",
     "text": [
      "The three points lie on the same straight line.\n"
     ]
    }
   ],
   "source": [
    "# Input the coordinates of three points\n",
    "x1 = float(input(\"Enter x-coordinate of point 1: \"))\n",
    "y1 = float(input(\"Enter y-coordinate of point 1: \"))\n",
    "x2 = float(input(\"Enter x-coordinate of point 2: \"))\n",
    "y2 = float(input(\"Enter y-coordinate of point 2: \"))\n",
    "x3 = float(input(\"Enter x-coordinate of point 3: \"))\n",
    "y3 = float(input(\"Enter y-coordinate of point 3: \"))\n",
    "\n",
    "# Calculate the slopes of the two line segments\n",
    "slope1 = (y2 - y1) / (x2 - x1)\n",
    "slope2 = (y3 - y2) / (x3 - x2)\n",
    "\n",
    "# Check if the slopes are equal\n",
    "if slope1 == slope2:\n",
    "    print(\"The three points lie on the same straight line.\")\n",
    "else:\n",
    "    print(\"The three points do not lie on the same straight line.\")"
   ]
  }
 ],
 "metadata": {
  "kernelspec": {
   "display_name": "Python 3",
   "language": "python",
   "name": "python3"
  },
  "language_info": {
   "codemirror_mode": {
    "name": "ipython",
    "version": 3
   },
   "file_extension": ".py",
   "mimetype": "text/x-python",
   "name": "python",
   "nbconvert_exporter": "python",
   "pygments_lexer": "ipython3",
   "version": "3.11.5"
  }
 },
 "nbformat": 4,
 "nbformat_minor": 2
}
