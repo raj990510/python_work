{
 "cells": [
  {
   "cell_type": "code",
   "execution_count": null,
   "metadata": {},
   "outputs": [],
   "source": [
    "# 06.Given a point (x1, y1), find the quadrant in which this point lies"
   ]
  },
  {
   "cell_type": "code",
   "execution_count": 1,
   "metadata": {},
   "outputs": [
    {
     "name": "stdout",
     "output_type": "stream",
     "text": [
      "It is a first quadrent\n"
     ]
    }
   ],
   "source": [
    "x1=float(input(\"Enter a number: \")) # you give a 1st input\n",
    "y1=float(input(\"Enter a number: \"))# you give a 2nd input\n",
    "if x1 and y1 ==0: # you check first origin point\n",
    "  print(\"It is a origin point\")\n",
    "elif x1>0 and y1 > 0:# you check first quadrent\n",
    "  print(\"It is a first quadrent\")\n",
    "elif x1<0 and y1 < 0:# you check second quadrent\n",
    "  print(\"it is a third quadrent\")\n",
    "elif x1>0 and y1<0:#you check third quadrent\n",
    "  print(\"it is forth quadrent\")\n",
    "elif x1<0 and y1>0:# you check forth quadrent\n",
    "  print(\"it is second quadrent\")\n",
    "else:# check on the line\n",
    "  print(\"on the line\")"
   ]
  }
 ],
 "metadata": {
  "kernelspec": {
   "display_name": "Python 3",
   "language": "python",
   "name": "python3"
  },
  "language_info": {
   "codemirror_mode": {
    "name": "ipython",
    "version": 3
   },
   "file_extension": ".py",
   "mimetype": "text/x-python",
   "name": "python",
   "nbconvert_exporter": "python",
   "pygments_lexer": "ipython3",
   "version": "3.11.5"
  }
 },
 "nbformat": 4,
 "nbformat_minor": 2
}
