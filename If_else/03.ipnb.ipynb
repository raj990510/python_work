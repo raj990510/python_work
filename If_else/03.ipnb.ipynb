{
 "cells": [
  {
   "cell_type": "code",
   "execution_count": null,
   "metadata": {},
   "outputs": [],
   "source": [
    "03.Given a temperature in Celsius, convert it to Fahrenheit using the formula F = (C * 1.8) + 32.\n",
    " If the temperature is above 90°F, \n",
    "print “It’s hot outside!” otherwise, print “The temperature is pleasant”"
   ]
  },
  {
   "cell_type": "code",
   "execution_count": 1,
   "metadata": {},
   "outputs": [
    {
     "name": "stdout",
     "output_type": "stream",
     "text": [
      "it's hot outside!\n"
     ]
    }
   ],
   "source": [
    "Celsius= int(input(\"Celsius: \")) # given a input\n",
    "if  (Celsius * 1.8) + 32 >= 90 : #convert it to Fahrenheit using the formula\n",
    "  print(\"it's hot outside!\")\n",
    "else:\n",
    "  print(\"The temperature is pleasant\")"
   ]
  }
 ],
 "metadata": {
  "kernelspec": {
   "display_name": "Python 3",
   "language": "python",
   "name": "python3"
  },
  "language_info": {
   "codemirror_mode": {
    "name": "ipython",
    "version": 3
   },
   "file_extension": ".py",
   "mimetype": "text/x-python",
   "name": "python",
   "nbconvert_exporter": "python",
   "pygments_lexer": "ipython3",
   "version": "3.11.5"
  }
 },
 "nbformat": 4,
 "nbformat_minor": 2
}
