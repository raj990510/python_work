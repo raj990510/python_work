{
 "cells": [
  {
   "cell_type": "code",
   "execution_count": null,
   "metadata": {},
   "outputs": [],
   "source": [
    "#10.Given two 3x3 matrices with values stored in two lists of length 9, find their product."
   ]
  },
  {
   "cell_type": "code",
   "execution_count": 1,
   "metadata": {},
   "outputs": [
    {
     "name": "stdout",
     "output_type": "stream",
     "text": [
      "Multiplied Matrix: \n",
      "[17, 26, 35]\n",
      "[41, 62, 83]\n",
      "[65, 98, 131]\n"
     ]
    }
   ],
   "source": [
    "A = [[1,2,3],\n",
    "     [4,5,6],\n",
    "     [7,8,9]]\n",
    "\n",
    "B = [[1,2,3],\n",
    "     [5,6,7],\n",
    "     [2,4,6]]\n",
    "\n",
    "result = [[0,0,0],\n",
    "          [0,0,0],\n",
    "          [0,0,0]]\n",
    "for i in range(len(A)):\n",
    "  for j in range(len(B[0])):\n",
    "    for k in range(len(B)):\n",
    "      result[i][j] += A[i][k]* B[k][j]\n",
    "print(\"Multiplied Matrix: \")\n",
    "for row in result:\n",
    "  print(row)"
   ]
  }
 ],
 "metadata": {
  "kernelspec": {
   "display_name": "Python 3",
   "language": "python",
   "name": "python3"
  },
  "language_info": {
   "codemirror_mode": {
    "name": "ipython",
    "version": 3
   },
   "file_extension": ".py",
   "mimetype": "text/x-python",
   "name": "python",
   "nbconvert_exporter": "python",
   "pygments_lexer": "ipython3",
   "version": "3.11.5"
  }
 },
 "nbformat": 4,
 "nbformat_minor": 2
}
