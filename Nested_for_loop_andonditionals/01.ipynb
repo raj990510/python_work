{
 "cells": [
  {
   "cell_type": "code",
   "execution_count": null,
   "metadata": {},
   "outputs": [],
   "source": [
    "#1.Given a list of positive integers, find the factorial of all the numbers"
   ]
  },
  {
   "cell_type": "code",
   "execution_count": 1,
   "metadata": {},
   "outputs": [
    {
     "name": "stdout",
     "output_type": "stream",
     "text": [
      "[6, 24, 120, 720, 5040, 362880]\n"
     ]
    }
   ],
   "source": [
    "list_m=[3,4,5,6,7,9]\n",
    "fact=[]\n",
    "for num in list_m:\n",
    "  list_p=1\n",
    "  for i in range(1,num+1):\n",
    "    list_p *=i\n",
    "  fact.append(list_p)\n",
    "print(fact)"
   ]
  }
 ],
 "metadata": {
  "kernelspec": {
   "display_name": "Python 3",
   "language": "python",
   "name": "python3"
  },
  "language_info": {
   "codemirror_mode": {
    "name": "ipython",
    "version": 3
   },
   "file_extension": ".py",
   "mimetype": "text/x-python",
   "name": "python",
   "nbconvert_exporter": "python",
   "pygments_lexer": "ipython3",
   "version": "3.11.5"
  }
 },
 "nbformat": 4,
 "nbformat_minor": 2
}
