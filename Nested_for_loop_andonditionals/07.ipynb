{
 "cells": [
  {
   "cell_type": "code",
   "execution_count": null,
   "metadata": {},
   "outputs": [],
   "source": [
    "#07.7.Given a list of integers, find all pairs of integers in the list whose sum is zero."
   ]
  },
  {
   "cell_type": "code",
   "execution_count": 2,
   "metadata": {},
   "outputs": [
    {
     "name": "stdout",
     "output_type": "stream",
     "text": [
      "Pairs of integers whose sum is zero:\n",
      "(1, -1)\n",
      "(-2, 2)\n",
      "(3, -3)\n",
      "(4, -4)\n"
     ]
    }
   ],
   "source": [
    "# Example list of integers\n",
    "numbers = [1, -2, 3, -1, -3, 2, 4, -4]\n",
    "\n",
    "zero_sum_pairs = []\n",
    "\n",
    "for i in range(len(numbers)):\n",
    "    for j in range(i+1, len(numbers)):\n",
    "        if numbers[i] + numbers[j] == 0:\n",
    "            zero_sum_pairs.append((numbers[i], numbers[j]))\n",
    "\n",
    "print(\"Pairs of integers whose sum is zero:\")\n",
    "for pair in zero_sum_pairs:\n",
    "    print(pair)"
   ]
  }
 ],
 "metadata": {
  "kernelspec": {
   "display_name": "Python 3",
   "language": "python",
   "name": "python3"
  },
  "language_info": {
   "codemirror_mode": {
    "name": "ipython",
    "version": 3
   },
   "file_extension": ".py",
   "mimetype": "text/x-python",
   "name": "python",
   "nbconvert_exporter": "python",
   "pygments_lexer": "ipython3",
   "version": "3.11.5"
  }
 },
 "nbformat": 4,
 "nbformat_minor": 2
}
