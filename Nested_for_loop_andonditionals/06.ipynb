{
 "cells": [
  {
   "cell_type": "code",
   "execution_count": null,
   "metadata": {},
   "outputs": [],
   "source": [
    "# 6.Given a list of numbers, find out how many times each number occurs in the list."
   ]
  },
  {
   "cell_type": "code",
   "execution_count": 1,
   "metadata": {},
   "outputs": [
    {
     "name": "stdout",
     "output_type": "stream",
     "text": [
      "Number frequencies:\n",
      "1 occurs 2 time(s).\n",
      "2 occurs 4 time(s).\n",
      "3 occurs 1 time(s).\n",
      "4 occurs 2 time(s).\n",
      "5 occurs 1 time(s).\n"
     ]
    }
   ],
   "source": [
    "# Example list of numbers\n",
    "numbers = [1, 2, 3, 2, 4, 1, 2, 5, 4, 2]\n",
    "\n",
    "frequency = {}\n",
    "\n",
    "for num in numbers:\n",
    "    if num in frequency:\n",
    "        frequency[num] += 1\n",
    "    else:\n",
    "        frequency[num] = 1\n",
    "\n",
    "print(\"Number frequencies:\")\n",
    "for num, count in frequency.items():\n",
    "    print(num, \"occurs\", count, \"time(s).\")"
   ]
  }
 ],
 "metadata": {
  "kernelspec": {
   "display_name": "Python 3",
   "language": "python",
   "name": "python3"
  },
  "language_info": {
   "codemirror_mode": {
    "name": "ipython",
    "version": 3
   },
   "file_extension": ".py",
   "mimetype": "text/x-python",
   "name": "python",
   "nbconvert_exporter": "python",
   "pygments_lexer": "ipython3",
   "version": "3.11.5"
  }
 },
 "nbformat": 4,
 "nbformat_minor": 2
}
